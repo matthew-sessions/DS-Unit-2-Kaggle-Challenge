{
  "nbformat": 4,
  "nbformat_minor": 0,
  "metadata": {
    "colab": {
      "name": "assignment_kaggle_challenge_2.ipynb",
      "version": "0.3.2",
      "provenance": [],
      "collapsed_sections": [],
      "include_colab_link": true
    },
    "kernelspec": {
      "display_name": "Python 3",
      "language": "python",
      "name": "python3"
    },
    "language_info": {
      "codemirror_mode": {
        "name": "ipython",
        "version": 3
      },
      "file_extension": ".py",
      "mimetype": "text/x-python",
      "name": "python",
      "nbconvert_exporter": "python",
      "pygments_lexer": "ipython3",
      "version": "3.7.3"
    }
  },
  "cells": [
    {
      "cell_type": "markdown",
      "metadata": {
        "id": "view-in-github",
        "colab_type": "text"
      },
      "source": [
        "<a href=\"https://colab.research.google.com/github/matthew-sessions/DS-Unit-2-Kaggle-Challenge/blob/master/module2/assignment_kaggle_challenge_2.ipynb\" target=\"_parent\"><img src=\"https://colab.research.google.com/assets/colab-badge.svg\" alt=\"Open In Colab\"/></a>"
      ]
    },
    {
      "cell_type": "markdown",
      "metadata": {
        "colab_type": "text",
        "id": "7IXUfiQ2UKj6"
      },
      "source": [
        "Lambda School Data Science, Unit 2: Predictive Modeling\n",
        "\n",
        "# Kaggle Challenge, Module 2\n",
        "\n",
        "## Assignment\n",
        "- [X] Read [“Adopting a Hypothesis-Driven Workflow”](https://outline.com/5S5tsB), a blog post by a Lambda DS student about the Tanzania Waterpumps challenge.\n",
        "- [X] Continue to participate in our Kaggle challenge.\n",
        "- [X] Try Ordinal Encoding.\n",
        "- [X] Try a Random Forest Classifier.\n",
        "- [X] Submit your predictions to our Kaggle competition. (Go to our Kaggle InClass competition webpage. Use the blue **Submit Predictions** button to upload your CSV file. Or you can use the Kaggle API to submit your predictions.)\n",
        "- [X] Commit your notebook to your fork of the GitHub repo.\n",
        "\n",
        "## Stretch Goals\n",
        "\n",
        "### Doing\n",
        "- [ ] Add your own stretch goal(s) !\n",
        "- [ ] Do more exploratory data analysis, data cleaning, feature engineering, and feature selection.\n",
        "- [ ] Try other [categorical encodings](https://contrib.scikit-learn.org/categorical-encoding/).\n",
        "- [ ] Get and plot your feature importances.\n",
        "- [ ] Make visualizations and share on Slack.\n",
        "\n",
        "### Reading\n",
        "\n",
        "Top recommendations in _**bold italic:**_\n",
        "\n",
        "#### Decision Trees\n",
        "- A Visual Introduction to Machine Learning, [Part 1: A Decision Tree](http://www.r2d3.us/visual-intro-to-machine-learning-part-1/),  and _**[Part 2: Bias and Variance](http://www.r2d3.us/visual-intro-to-machine-learning-part-2/)**_\n",
        "- [Decision Trees: Advantages & Disadvantages](https://christophm.github.io/interpretable-ml-book/tree.html#advantages-2)\n",
        "- [How a Russian mathematician constructed a decision tree — by hand — to solve a medical problem](http://fastml.com/how-a-russian-mathematician-constructed-a-decision-tree-by-hand-to-solve-a-medical-problem/)\n",
        "- [How decision trees work](https://brohrer.github.io/how_decision_trees_work.html)\n",
        "- [Let’s Write a Decision Tree Classifier from Scratch](https://www.youtube.com/watch?v=LDRbO9a6XPU)\n",
        "\n",
        "#### Random Forests\n",
        "- [_An Introduction to Statistical Learning_](http://www-bcf.usc.edu/~gareth/ISL/), Chapter 8: Tree-Based Methods\n",
        "- [Coloring with Random Forests](http://structuringtheunstructured.blogspot.com/2017/11/coloring-with-random-forests.html)\n",
        "- _**[Random Forests for Complete Beginners: The definitive guide to Random Forests and Decision Trees](https://victorzhou.com/blog/intro-to-random-forests/)**_\n",
        "\n",
        "#### Categorical encoding for trees\n",
        "- [Are categorical variables getting lost in your random forests?](https://roamanalytics.com/2016/10/28/are-categorical-variables-getting-lost-in-your-random-forests/)\n",
        "- [Beyond One-Hot: An Exploration of Categorical Variables](http://www.willmcginnis.com/2015/11/29/beyond-one-hot-an-exploration-of-categorical-variables/)\n",
        "- _**[Categorical Features and Encoding in Decision Trees](https://medium.com/data-design/visiting-categorical-features-and-encoding-in-decision-trees-53400fa65931)**_\n",
        "- _**[Coursera — How to Win a Data Science Competition: Learn from Top Kagglers — Concept of mean encoding](https://www.coursera.org/lecture/competitive-data-science/concept-of-mean-encoding-b5Gxv)**_\n",
        "- [Mean (likelihood) encodings: a comprehensive study](https://www.kaggle.com/vprokopev/mean-likelihood-encodings-a-comprehensive-study)\n",
        "- [The Mechanics of Machine Learning, Chapter 6: Categorically Speaking](https://mlbook.explained.ai/catvars.html)\n",
        "\n",
        "#### Imposter Syndrome\n",
        "- [Effort Shock and Reward Shock (How The Karate Kid Ruined The Modern World)](http://www.tempobook.com/2014/07/09/effort-shock-and-reward-shock/)\n",
        "- [How to manage impostor syndrome in data science](https://towardsdatascience.com/how-to-manage-impostor-syndrome-in-data-science-ad814809f068)\n",
        "- [\"I am not a real data scientist\"](https://brohrer.github.io/imposter_syndrome.html)\n",
        "- _**[Imposter Syndrome in Data Science](https://caitlinhudon.com/2018/01/19/imposter-syndrome-in-data-science/)**_\n",
        "\n",
        "\n",
        "\n",
        "\n"
      ]
    },
    {
      "cell_type": "markdown",
      "metadata": {
        "colab_type": "text",
        "id": "0JHWUiSlu6Fj"
      },
      "source": [
        "### Setup\n",
        "\n",
        "You can work locally (follow the [local setup instructions](https://lambdaschool.github.io/ds/unit2/local/)) or on Colab (run the code cell below)."
      ]
    },
    {
      "cell_type": "code",
      "metadata": {
        "colab_type": "code",
        "id": "o9eSnDYhUGD7",
        "colab": {}
      },
      "source": [
        "import os, sys\n",
        "in_colab = 'google.colab' in sys.modules\n",
        "\n",
        "# If you're in Colab...\n",
        "if in_colab:\n",
        "    # Pull files from Github repo\n",
        "    os.chdir('/content')\n",
        "    !git init .\n",
        "    !git remote add origin https://github.com/LambdaSchool/DS-Unit-2-Kaggle-Challenge.git\n",
        "    !git pull origin master\n",
        "    \n",
        "    # Install required python packages\n",
        "    !pip install -r requirements.txt\n",
        "    \n",
        "    # Change into directory for module\n",
        "    os.chdir('module2')"
      ],
      "execution_count": 0,
      "outputs": []
    },
    {
      "cell_type": "code",
      "metadata": {
        "colab_type": "code",
        "id": "QJBD4ruICm1m",
        "colab": {},
        "outputId": "2b38d374-499d-4f09-ae24-0a5992cf1ece"
      },
      "source": [
        "import pandas as pd\n",
        "from sklearn.model_selection import train_test_split\n",
        "\n",
        "import pandas as pd\n",
        "from sklearn.model_selection import train_test_split\n",
        "\n",
        "train = pd.merge(pd.read_csv('https://raw.githubusercontent.com/matthew-sessions/DS-Unit-2-Kaggle-Challenge/master/data/tanzania/train_features.csv'), \n",
        "                 pd.read_csv('https://raw.githubusercontent.com/matthew-sessions/DS-Unit-2-Kaggle-Challenge/master/data/tanzania/train_labels.csv'))\n",
        "test = pd.read_csv('https://raw.githubusercontent.com/matthew-sessions/DS-Unit-2-Kaggle-Challenge/master/data/tanzania/test_features.csv')\n",
        "sample_submission = pd.read_csv('https://raw.githubusercontent.com/matthew-sessions/DS-Unit-2-Kaggle-Challenge/master/data/tanzania/sample_submission.csv')\n",
        "\n",
        "train.shape, test.shape"
      ],
      "execution_count": 0,
      "outputs": [
        {
          "output_type": "execute_result",
          "data": {
            "text/plain": [
              "((59400, 41), (14358, 40))"
            ]
          },
          "metadata": {
            "tags": []
          },
          "execution_count": 56
        }
      ]
    },
    {
      "cell_type": "code",
      "metadata": {
        "id": "MKRZP7hCKJOn",
        "colab_type": "code",
        "colab": {},
        "outputId": "8f68a824-43d6-44c2-89c1-47e9a8728a22"
      },
      "source": [
        "import numpy as np \n",
        "\n",
        "def wrangle(X):\n",
        "    \"\"\"Wrangle train, validate, and test sets in the same way\"\"\"\n",
        "    \n",
        "    # Prevent SettingWithCopyWarning\n",
        "    X = X.copy()\n",
        "    \n",
        "    # About 3% of the time, latitude has small values near zero,\n",
        "    # outside Tanzania, so we'll treat these values like zero.\n",
        "    X['latitude'] = X['latitude'].replace(-2e-08, 0)\n",
        "    \n",
        "    # When columns have zeros and shouldn't, they are like null values.\n",
        "    # So we will replace the zeros with nulls, and impute missing values later.\n",
        "    # Also create a \"missing indicator\" column, because the fact that\n",
        "    # values are missing may be a predictive signal.\n",
        "    cols_with_zeros = ['longitude', 'latitude', 'construction_year', \n",
        "                       'gps_height', 'population']\n",
        "    for col in cols_with_zeros:\n",
        "        X[col] = X[col].replace(0, np.nan)\n",
        "        X[col+'_MISSING'] = X[col].isnull()\n",
        "            \n",
        "    # Drop duplicate columns\n",
        "    duplicates = ['quantity_group', 'payment_type']\n",
        "    X = X.drop(columns=duplicates)\n",
        "    \n",
        "    # Drop recorded_by (never varies) and id (always varies, random)\n",
        "    unusable_variance = ['recorded_by', 'id']\n",
        "    X = X.drop(columns=unusable_variance)\n",
        "    \n",
        "    # Convert date_recorded to datetime\n",
        "    X['date_recorded'] = pd.to_datetime(X['date_recorded'], infer_datetime_format=True)\n",
        "    \n",
        "    # Extract components from date_recorded, then drop the original column\n",
        "    X['year_recorded'] = X['date_recorded'].dt.year\n",
        "    X['month_recorded'] = X['date_recorded'].dt.month\n",
        "    X['day_recorded'] = X['date_recorded'].dt.day\n",
        "    X = X.drop(columns='date_recorded')\n",
        "    \n",
        "    # Engineer feature: how many years from construction_year to date_recorded\n",
        "    X['years'] = X['year_recorded'] - X['construction_year']\n",
        "    X['years_MISSING'] = X['years'].isnull()\n",
        "    \n",
        "    # return the wrangled dataframe\n",
        "    return X\n",
        "\n",
        "train = wrangle(train)\n",
        "\n",
        "test = wrangle(test)\n",
        "train.shape, test.shape"
      ],
      "execution_count": 0,
      "outputs": [
        {
          "output_type": "execute_result",
          "data": {
            "text/plain": [
              "((59400, 46), (14358, 45))"
            ]
          },
          "metadata": {
            "tags": []
          },
          "execution_count": 57
        }
      ]
    },
    {
      "cell_type": "code",
      "metadata": {
        "id": "bKwZngokKJOq",
        "colab_type": "code",
        "colab": {},
        "outputId": "50b89b32-0ce1-4346-dc82-59a780f90886"
      },
      "source": [
        "train.head()"
      ],
      "execution_count": 0,
      "outputs": [
        {
          "output_type": "execute_result",
          "data": {
            "text/html": [
              "<div>\n",
              "<style scoped>\n",
              "    .dataframe tbody tr th:only-of-type {\n",
              "        vertical-align: middle;\n",
              "    }\n",
              "\n",
              "    .dataframe tbody tr th {\n",
              "        vertical-align: top;\n",
              "    }\n",
              "\n",
              "    .dataframe thead th {\n",
              "        text-align: right;\n",
              "    }\n",
              "</style>\n",
              "<table border=\"1\" class=\"dataframe\">\n",
              "  <thead>\n",
              "    <tr style=\"text-align: right;\">\n",
              "      <th></th>\n",
              "      <th>amount_tsh</th>\n",
              "      <th>funder</th>\n",
              "      <th>gps_height</th>\n",
              "      <th>installer</th>\n",
              "      <th>longitude</th>\n",
              "      <th>latitude</th>\n",
              "      <th>wpt_name</th>\n",
              "      <th>num_private</th>\n",
              "      <th>basin</th>\n",
              "      <th>subvillage</th>\n",
              "      <th>...</th>\n",
              "      <th>longitude_MISSING</th>\n",
              "      <th>latitude_MISSING</th>\n",
              "      <th>construction_year_MISSING</th>\n",
              "      <th>gps_height_MISSING</th>\n",
              "      <th>population_MISSING</th>\n",
              "      <th>year_recorded</th>\n",
              "      <th>month_recorded</th>\n",
              "      <th>day_recorded</th>\n",
              "      <th>years</th>\n",
              "      <th>years_MISSING</th>\n",
              "    </tr>\n",
              "  </thead>\n",
              "  <tbody>\n",
              "    <tr>\n",
              "      <th>0</th>\n",
              "      <td>6000.0</td>\n",
              "      <td>Roman</td>\n",
              "      <td>1390.0</td>\n",
              "      <td>Roman</td>\n",
              "      <td>34.938093</td>\n",
              "      <td>-9.856322</td>\n",
              "      <td>none</td>\n",
              "      <td>0</td>\n",
              "      <td>Lake Nyasa</td>\n",
              "      <td>Mnyusi B</td>\n",
              "      <td>...</td>\n",
              "      <td>False</td>\n",
              "      <td>False</td>\n",
              "      <td>False</td>\n",
              "      <td>False</td>\n",
              "      <td>False</td>\n",
              "      <td>2011</td>\n",
              "      <td>3</td>\n",
              "      <td>14</td>\n",
              "      <td>12.0</td>\n",
              "      <td>False</td>\n",
              "    </tr>\n",
              "    <tr>\n",
              "      <th>1</th>\n",
              "      <td>0.0</td>\n",
              "      <td>Grumeti</td>\n",
              "      <td>1399.0</td>\n",
              "      <td>GRUMETI</td>\n",
              "      <td>34.698766</td>\n",
              "      <td>-2.147466</td>\n",
              "      <td>Zahanati</td>\n",
              "      <td>0</td>\n",
              "      <td>Lake Victoria</td>\n",
              "      <td>Nyamara</td>\n",
              "      <td>...</td>\n",
              "      <td>False</td>\n",
              "      <td>False</td>\n",
              "      <td>False</td>\n",
              "      <td>False</td>\n",
              "      <td>False</td>\n",
              "      <td>2013</td>\n",
              "      <td>3</td>\n",
              "      <td>6</td>\n",
              "      <td>3.0</td>\n",
              "      <td>False</td>\n",
              "    </tr>\n",
              "    <tr>\n",
              "      <th>2</th>\n",
              "      <td>25.0</td>\n",
              "      <td>Lottery Club</td>\n",
              "      <td>686.0</td>\n",
              "      <td>World vision</td>\n",
              "      <td>37.460664</td>\n",
              "      <td>-3.821329</td>\n",
              "      <td>Kwa Mahundi</td>\n",
              "      <td>0</td>\n",
              "      <td>Pangani</td>\n",
              "      <td>Majengo</td>\n",
              "      <td>...</td>\n",
              "      <td>False</td>\n",
              "      <td>False</td>\n",
              "      <td>False</td>\n",
              "      <td>False</td>\n",
              "      <td>False</td>\n",
              "      <td>2013</td>\n",
              "      <td>2</td>\n",
              "      <td>25</td>\n",
              "      <td>4.0</td>\n",
              "      <td>False</td>\n",
              "    </tr>\n",
              "    <tr>\n",
              "      <th>3</th>\n",
              "      <td>0.0</td>\n",
              "      <td>Unicef</td>\n",
              "      <td>263.0</td>\n",
              "      <td>UNICEF</td>\n",
              "      <td>38.486161</td>\n",
              "      <td>-11.155298</td>\n",
              "      <td>Zahanati Ya Nanyumbu</td>\n",
              "      <td>0</td>\n",
              "      <td>Ruvuma / Southern Coast</td>\n",
              "      <td>Mahakamani</td>\n",
              "      <td>...</td>\n",
              "      <td>False</td>\n",
              "      <td>False</td>\n",
              "      <td>False</td>\n",
              "      <td>False</td>\n",
              "      <td>False</td>\n",
              "      <td>2013</td>\n",
              "      <td>1</td>\n",
              "      <td>28</td>\n",
              "      <td>27.0</td>\n",
              "      <td>False</td>\n",
              "    </tr>\n",
              "    <tr>\n",
              "      <th>4</th>\n",
              "      <td>0.0</td>\n",
              "      <td>Action In A</td>\n",
              "      <td>NaN</td>\n",
              "      <td>Artisan</td>\n",
              "      <td>31.130847</td>\n",
              "      <td>-1.825359</td>\n",
              "      <td>Shuleni</td>\n",
              "      <td>0</td>\n",
              "      <td>Lake Victoria</td>\n",
              "      <td>Kyanyamisa</td>\n",
              "      <td>...</td>\n",
              "      <td>False</td>\n",
              "      <td>False</td>\n",
              "      <td>True</td>\n",
              "      <td>True</td>\n",
              "      <td>True</td>\n",
              "      <td>2011</td>\n",
              "      <td>7</td>\n",
              "      <td>13</td>\n",
              "      <td>NaN</td>\n",
              "      <td>True</td>\n",
              "    </tr>\n",
              "  </tbody>\n",
              "</table>\n",
              "<p>5 rows × 46 columns</p>\n",
              "</div>"
            ],
            "text/plain": [
              "   amount_tsh        funder  gps_height     installer  longitude   latitude  \\\n",
              "0      6000.0         Roman      1390.0         Roman  34.938093  -9.856322   \n",
              "1         0.0       Grumeti      1399.0       GRUMETI  34.698766  -2.147466   \n",
              "2        25.0  Lottery Club       686.0  World vision  37.460664  -3.821329   \n",
              "3         0.0        Unicef       263.0        UNICEF  38.486161 -11.155298   \n",
              "4         0.0   Action In A         NaN       Artisan  31.130847  -1.825359   \n",
              "\n",
              "               wpt_name  num_private                    basin  subvillage  \\\n",
              "0                  none            0               Lake Nyasa    Mnyusi B   \n",
              "1              Zahanati            0            Lake Victoria     Nyamara   \n",
              "2           Kwa Mahundi            0                  Pangani     Majengo   \n",
              "3  Zahanati Ya Nanyumbu            0  Ruvuma / Southern Coast  Mahakamani   \n",
              "4               Shuleni            0            Lake Victoria  Kyanyamisa   \n",
              "\n",
              "   ... longitude_MISSING  latitude_MISSING  construction_year_MISSING  \\\n",
              "0  ...             False             False                      False   \n",
              "1  ...             False             False                      False   \n",
              "2  ...             False             False                      False   \n",
              "3  ...             False             False                      False   \n",
              "4  ...             False             False                       True   \n",
              "\n",
              "  gps_height_MISSING population_MISSING  year_recorded month_recorded  \\\n",
              "0              False              False           2011              3   \n",
              "1              False              False           2013              3   \n",
              "2              False              False           2013              2   \n",
              "3              False              False           2013              1   \n",
              "4               True               True           2011              7   \n",
              "\n",
              "  day_recorded years years_MISSING  \n",
              "0           14  12.0         False  \n",
              "1            6   3.0         False  \n",
              "2           25   4.0         False  \n",
              "3           28  27.0         False  \n",
              "4           13   NaN          True  \n",
              "\n",
              "[5 rows x 46 columns]"
            ]
          },
          "metadata": {
            "tags": []
          },
          "execution_count": 58
        }
      ]
    },
    {
      "cell_type": "code",
      "metadata": {
        "id": "_GeMIUwwKJOt",
        "colab_type": "code",
        "colab": {},
        "outputId": "3cffa570-86bd-4566-cb11-dcac35459e2a"
      },
      "source": [
        "from sklearn.model_selection import train_test_split\n",
        "\n",
        "train, val = train_test_split(train, train_size=0.80, test_size=0.20, \n",
        "                              stratify=train['status_group'], random_state=42)\n",
        "\n",
        "train.shape, val.shape\n"
      ],
      "execution_count": 0,
      "outputs": [
        {
          "output_type": "execute_result",
          "data": {
            "text/plain": [
              "((47520, 46), (11880, 46))"
            ]
          },
          "metadata": {
            "tags": []
          },
          "execution_count": 59
        }
      ]
    },
    {
      "cell_type": "code",
      "metadata": {
        "id": "qE-W_M2LKJOv",
        "colab_type": "code",
        "colab": {}
      },
      "source": [
        "x_train = train.drop(columns='status_group')\n",
        "y_train = train['status_group']\n",
        "\n",
        "x_val = val.drop(columns='status_group')\n",
        "y_val = val['status_group']"
      ],
      "execution_count": 0,
      "outputs": []
    },
    {
      "cell_type": "code",
      "metadata": {
        "id": "i1vyRrIVKJOy",
        "colab_type": "code",
        "colab": {},
        "outputId": "212479f0-11b2-4d9c-d24c-06d4f03a2356"
      },
      "source": [
        "x_train.shape"
      ],
      "execution_count": 0,
      "outputs": [
        {
          "output_type": "execute_result",
          "data": {
            "text/plain": [
              "(47520, 45)"
            ]
          },
          "metadata": {
            "tags": []
          },
          "execution_count": 61
        }
      ]
    },
    {
      "cell_type": "code",
      "metadata": {
        "id": "4NjSyKGsKJO0",
        "colab_type": "code",
        "colab": {},
        "outputId": "fa0da5ef-8234-4441-fa0b-500c2c94991d"
      },
      "source": [
        "y_train.shape"
      ],
      "execution_count": 0,
      "outputs": [
        {
          "output_type": "execute_result",
          "data": {
            "text/plain": [
              "(47520,)"
            ]
          },
          "metadata": {
            "tags": []
          },
          "execution_count": 62
        }
      ]
    },
    {
      "cell_type": "code",
      "metadata": {
        "id": "_v3JaoEIKJO3",
        "colab_type": "code",
        "colab": {}
      },
      "source": [
        "num_feat = x_train.select_dtypes(include='number').columns.tolist()\n",
        "card = x_train.select_dtypes(exclude='number').nunique()\n",
        "\n",
        "cat_features = card[card <= 50].index.tolist()"
      ],
      "execution_count": 0,
      "outputs": []
    },
    {
      "cell_type": "code",
      "metadata": {
        "id": "Rz2vp4R0KJO5",
        "colab_type": "code",
        "colab": {}
      },
      "source": [
        "feat = num_feat + cat_features"
      ],
      "execution_count": 0,
      "outputs": []
    },
    {
      "cell_type": "code",
      "metadata": {
        "id": "EKS_nuhVKJO8",
        "colab_type": "code",
        "colab": {}
      },
      "source": [
        "import category_encoders as ce\n",
        "from sklearn.ensemble import RandomForestClassifier\n",
        "from sklearn.impute import SimpleImputer\n",
        "from sklearn.pipeline import make_pipeline\n",
        "\n",
        "pipeline = make_pipeline(\n",
        "    ce.OneHotEncoder(use_cat_names=True), \n",
        "    SimpleImputer(strategy='median'), \n",
        "    RandomForestClassifier(n_estimators=100, random_state=42, n_jobs=-1)\n",
        ")\n",
        "\n",
        "pipeline = pipeline.fit(x_train[feat],y_train)"
      ],
      "execution_count": 0,
      "outputs": []
    },
    {
      "cell_type": "code",
      "metadata": {
        "id": "v4Ie2TgbKJPA",
        "colab_type": "code",
        "colab": {},
        "outputId": "b530b687-dc18-49e6-8d2c-42cdd0da3996"
      },
      "source": [
        "\n",
        "print('Validation Accuracy', pipeline.score(x_val[feat], y_val))\n"
      ],
      "execution_count": 0,
      "outputs": [
        {
          "output_type": "stream",
          "text": [
            "Validation Accuracy 0.8082491582491582\n"
          ],
          "name": "stdout"
        }
      ]
    },
    {
      "cell_type": "code",
      "metadata": {
        "id": "UmWr311FKJPC",
        "colab_type": "code",
        "colab": {}
      },
      "source": [
        "subs = sample_submission['status_group']"
      ],
      "execution_count": 0,
      "outputs": []
    },
    {
      "cell_type": "code",
      "metadata": {
        "id": "CTLfO3HUKJPF",
        "colab_type": "code",
        "colab": {},
        "outputId": "e3e4fccf-6a14-429c-943f-c7b0840bb8ca"
      },
      "source": [
        "len(subs)"
      ],
      "execution_count": 0,
      "outputs": [
        {
          "output_type": "execute_result",
          "data": {
            "text/plain": [
              "14358"
            ]
          },
          "metadata": {
            "tags": []
          },
          "execution_count": 72
        }
      ]
    },
    {
      "cell_type": "code",
      "metadata": {
        "id": "Kgo_6u0eKJPH",
        "colab_type": "code",
        "colab": {},
        "outputId": "d961f2f8-5ecd-4642-ef7a-b4be639d72c6"
      },
      "source": [
        "\n",
        "print('Validation Accuracy', pipeline.score(x_val[feat], y_val))\n",
        "print('test Accuracy', pipeline.score(test[feat], subs))"
      ],
      "execution_count": 0,
      "outputs": [
        {
          "output_type": "stream",
          "text": [
            "Validation Accuracy 0.8082491582491582\n",
            "test Accuracy 0.5793982448809026\n"
          ],
          "name": "stdout"
        }
      ]
    },
    {
      "cell_type": "code",
      "metadata": {
        "id": "ROucZzjJKJPK",
        "colab_type": "code",
        "colab": {}
      },
      "source": [
        "encoder = pipeline.named_steps['onehotencoder']"
      ],
      "execution_count": 0,
      "outputs": []
    },
    {
      "cell_type": "code",
      "metadata": {
        "id": "XMDzGfhuKJPM",
        "colab_type": "code",
        "colab": {}
      },
      "source": [
        "encoded = encoder.transform(x_train[feat])"
      ],
      "execution_count": 0,
      "outputs": []
    },
    {
      "cell_type": "code",
      "metadata": {
        "id": "YC2sJH5IKJPP",
        "colab_type": "code",
        "colab": {},
        "outputId": "4d3b4eeb-2856-4406-9288-5909e2954cd4"
      },
      "source": [
        "print(encoded.shape)\n",
        "print(x_train[feat].shape)"
      ],
      "execution_count": 0,
      "outputs": [
        {
          "output_type": "stream",
          "text": [
            "(47520, 182)\n",
            "(47520, 38)\n"
          ],
          "name": "stdout"
        }
      ]
    },
    {
      "cell_type": "code",
      "metadata": {
        "id": "8M0_6Ib1KJPR",
        "colab_type": "code",
        "colab": {},
        "outputId": "26463b55-8848-4d38-8e26-42c2c546f9e6"
      },
      "source": [
        "%matplotlib inline\n",
        "import matplotlib.pyplot as plt\n",
        "\n",
        "rf = pipeline.named_steps['randomforestclassifier']\n",
        "importances = pd.Series(rf.feature_importances_, encoded.columns)\n",
        "\n",
        "\n",
        "n = 20\n",
        "plt.figure(figsize=(10,n/2))\n",
        "plt.title(f'Top {n} features')\n",
        "importances.sort_values()[-n:].plot.barh(color='grey');"
      ],
      "execution_count": 0,
      "outputs": [
        {
          "output_type": "display_data",
          "data": {
            "image/png": "[encoded data removed]",
            "text/plain": [
              "<Figure size 720x720 with 1 Axes>"
            ]
          },
          "metadata": {
            "tags": [],
            "needs_background": "light"
          }
        }
      ]
    },
    {
      "cell_type": "code",
      "metadata": {
        "id": "zTKsjs9AKJPU",
        "colab_type": "code",
        "colab": {}
      },
      "source": [
        "target = 'status_group'\n",
        "\n",
        "X_train = train.drop(columns=target)\n",
        "y_train = train[target]\n",
        "X_val = val.drop(columns=target)\n",
        "y_val = val[target]\n",
        "X_test = test"
      ],
      "execution_count": 0,
      "outputs": []
    },
    {
      "cell_type": "code",
      "metadata": {
        "id": "02vV9XvnKJPa",
        "colab_type": "code",
        "colab": {},
        "outputId": "6a71d090-a8a2-4016-8102-786a93ed706b"
      },
      "source": [
        "pipeline = make_pipeline(\n",
        "    ce.OrdinalEncoder(), \n",
        "    SimpleImputer(strategy='median'), \n",
        "    RandomForestClassifier(n_estimators=50, random_state=42, n_jobs=-1)\n",
        ")\n",
        "\n",
        "pipeline.fit(X_train, y_train)\n",
        "print('Validation Accuracy', pipeline.score(X_val, y_val))\n",
        "\n",
        "print('test Accuracy', pipeline.score(test, subs))"
      ],
      "execution_count": 0,
      "outputs": [
        {
          "output_type": "stream",
          "text": [
            "Validation Accuracy 0.8085016835016835\n",
            "test Accuracy 0.5927705808608441\n"
          ],
          "name": "stdout"
        }
      ]
    },
    {
      "cell_type": "code",
      "metadata": {
        "id": "MNYv6yn2KJPf",
        "colab_type": "code",
        "colab": {},
        "outputId": "df2e5068-5088-45ba-ed9e-eac0229f7f87"
      },
      "source": [
        "pipeline.fit(X_train, y_train)\n",
        "print('Validation Accuracy', pipeline.score(X_val, y_val))"
      ],
      "execution_count": 0,
      "outputs": [
        {
          "output_type": "stream",
          "text": [
            "Validation Accuracy 0.8135521885521886\n"
          ],
          "name": "stdout"
        }
      ]
    },
    {
      "cell_type": "code",
      "metadata": {
        "id": "p_glaUosKJPh",
        "colab_type": "code",
        "colab": {},
        "outputId": "d97300b8-3352-4452-ed28-c38f6617c6ba"
      },
      "source": [
        "print('test Accuracy', pipeline.score(test, subs))"
      ],
      "execution_count": 0,
      "outputs": [
        {
          "output_type": "stream",
          "text": [
            "test Accuracy 0.5935367042763616\n"
          ],
          "name": "stdout"
        }
      ]
    },
    {
      "cell_type": "code",
      "metadata": {
        "id": "fBQdiz_tKJPj",
        "colab_type": "code",
        "colab": {}
      },
      "source": [
        "def hotord(train,val,test,hot,ordd,nums):\n",
        "    hot = hot + nums\n",
        "    encoder = ce.OneHotEncoder(use_cat_names=True)\n",
        "    train_tran = encoder.fit_transform(train[hot])\n",
        "    val_tran = encoder.transform(val[hot])\n",
        "    test_tran = encoder.transform(test[hot])\n",
        "    nums2 = train_tran.columns.tolist()\n",
        "    \n",
        "    orden = ce.OrdinalEncoder()\n",
        "    train_fin = orden.fit_transform(train[ordd])\n",
        "    train_fin = pd.concat([train_fin,train_tran],axis=1)\n",
        "    \n",
        "    val_fin = orden.transform(val[ordd])\n",
        "    val_fin = pd.concat([val_fin,val_tran],axis=1)\n",
        "    \n",
        "    test_fin = orden.transform(test[ordd])\n",
        "    test_fin = pd.concat([test_fin,test_tran],axis=1)\n",
        "    return(train_fin,val_fin,test_fin)"
      ],
      "execution_count": 0,
      "outputs": []
    },
    {
      "cell_type": "code",
      "metadata": {
        "id": "CLRepUCKKJPm",
        "colab_type": "code",
        "colab": {}
      },
      "source": [
        "from sklearn.preprocessing import MinMaxScaler\n",
        "\n",
        "def hotordscale(train,val,test,hot,ordd,nums):\n",
        "    hot = hot + nums\n",
        "    encoder = ce.OneHotEncoder(use_cat_names=True)\n",
        "    train_tran = encoder.fit_transform(train[hot])\n",
        "    val_tran = encoder.transform(val[hot])\n",
        "    test_tran = encoder.transform(test[hot])\n",
        "    nums2 = train_tran.columns.tolist()\n",
        "    \n",
        "    orden = ce.OrdinalEncoder()\n",
        "    train_fin = orden.fit_transform(train[ordd])\n",
        "    train_fin = pd.concat([train_fin,train_tran],axis=1)\n",
        "    \n",
        "    val_fin = orden.transform(val[ordd])\n",
        "    val_fin = pd.concat([val_fin,val_tran],axis=1)\n",
        "    \n",
        "    test_fin = orden.transform(test[ordd])\n",
        "    test_fin = pd.concat([test_fin,test_tran],axis=1)\n",
        "    \n",
        "    scaler = MinMaxScaler()\n",
        "    train_fin = scaler.fit_transform(train_fin)\n",
        "    val_fin = scaler.transform(val_fin)\n",
        "    test_fin = scaler.transform(test_fin)\n",
        "    \n",
        "    \n",
        "    return(train_fin,val_fin,test_fin)"
      ],
      "execution_count": 0,
      "outputs": []
    },
    {
      "cell_type": "code",
      "metadata": {
        "id": "HfDGjIf6KJPo",
        "colab_type": "code",
        "colab": {}
      },
      "source": [
        "cats = x_train.select_dtypes(exclude='number').nunique()\n",
        "\n",
        "nums = train.select_dtypes(include='number').columns.tolist()\n",
        "\n",
        "ordd = cats[card > 50].index.tolist()\n",
        "\n",
        "hot =  cats[card < 50].index.tolist()"
      ],
      "execution_count": 0,
      "outputs": []
    },
    {
      "cell_type": "code",
      "metadata": {
        "id": "DqXQRmSzKJPq",
        "colab_type": "code",
        "colab": {}
      },
      "source": [
        "train_fin,val_fin,test_fin = hotord(train,val,test,hot,ordd,nums)"
      ],
      "execution_count": 0,
      "outputs": []
    },
    {
      "cell_type": "code",
      "metadata": {
        "id": "iFZVgzIOKJPs",
        "colab_type": "code",
        "colab": {},
        "outputId": "5b27f586-6b24-48ac-840b-938c73f00642"
      },
      "source": [
        "train_fin.shape,val_fin.shape,test_fin.shape"
      ],
      "execution_count": 0,
      "outputs": [
        {
          "output_type": "execute_result",
          "data": {
            "text/plain": [
              "((47520, 189), (11880, 189), (14358, 189))"
            ]
          },
          "metadata": {
            "tags": []
          },
          "execution_count": 117
        }
      ]
    },
    {
      "cell_type": "code",
      "metadata": {
        "id": "RYPnqQB0KJPu",
        "colab_type": "code",
        "colab": {},
        "outputId": "583250f3-83b2-4945-9a5b-e1578a1d3d78"
      },
      "source": [
        "pipeline = make_pipeline(\n",
        "    SimpleImputer(strategy='median'), \n",
        "    RandomForestClassifier(n_estimators=80, random_state=42, n_jobs=-1)\n",
        ")\n",
        "\n",
        "pipeline.fit(train_fin, y_train)\n",
        "print('Train Accuracy', pipeline.score(train_fin, y_train))\n",
        "print('Validation Accuracy', pipeline.score(val_fin, y_val))\n",
        "print('test Accuracy', pipeline.score(test_fin, subs))"
      ],
      "execution_count": 0,
      "outputs": [
        {
          "output_type": "stream",
          "text": [
            "Train Accuracy 0.9999579124579124\n",
            "Validation Accuracy 0.8096801346801347\n",
            "test Accuracy 0.5956957793564563\n"
          ],
          "name": "stdout"
        }
      ]
    },
    {
      "cell_type": "code",
      "metadata": {
        "id": "zLmT4SfVKJPw",
        "colab_type": "code",
        "colab": {},
        "outputId": "b7160220-870d-4a19-faec-9d294f7a4b1a"
      },
      "source": [
        "\n",
        "\n",
        "rf = pipeline.named_steps['randomforestclassifier']\n",
        "importances = pd.Series(rf.feature_importances_, test_fin.columns)\n",
        "\n",
        "n = 20\n",
        "plt.figure(figsize=(10,n/2))\n",
        "plt.title(f'Top {n} features')\n",
        "importances.sort_values()[-n:].plot.barh(color='grey');"
      ],
      "execution_count": 0,
      "outputs": [
        {
          "output_type": "display_data",
          "data": {
            "image/png": "[encoded data removed]",
            "text/plain": [
              "<Figure size 720x720 with 1 Axes>"
            ]
          },
          "metadata": {
            "tags": [],
            "needs_background": "light"
          }
        }
      ]
    },
    {
      "cell_type": "code",
      "metadata": {
        "id": "2Ap1DWQRKJPy",
        "colab_type": "code",
        "colab": {},
        "outputId": "f93ac3f6-45d2-4bb5-8755-3d7d54ddf2c7"
      },
      "source": [
        "important = importances.sort_values()[-12:].index.tolist()\n",
        "important"
      ],
      "execution_count": 0,
      "outputs": [
        {
          "output_type": "execute_result",
          "data": {
            "text/plain": [
              "['funder',\n",
              " 'construction_year',\n",
              " 'population',\n",
              " 'years',\n",
              " 'ward',\n",
              " 'day_recorded',\n",
              " 'gps_height',\n",
              " 'subvillage',\n",
              " 'wpt_name',\n",
              " 'quantity_dry',\n",
              " 'latitude',\n",
              " 'longitude']"
            ]
          },
          "metadata": {
            "tags": []
          },
          "execution_count": 152
        }
      ]
    },
    {
      "cell_type": "code",
      "metadata": {
        "id": "eAqmv6liKJP1",
        "colab_type": "code",
        "colab": {},
        "outputId": "7ac42e78-653e-4156-bf9e-5aae5711cab0"
      },
      "source": [
        "pipeline = make_pipeline(\n",
        "    SimpleImputer(strategy='median'), \n",
        "    RandomForestClassifier(n_estimators=50, random_state=42, n_jobs=-1)\n",
        ")\n",
        "\n",
        "pipeline.fit(train_fin[important], y_train)\n",
        "print('Train Accuracy', pipeline.score(train_fin[important], y_train))\n",
        "print('Validation Accuracy', pipeline.score(val_fin[important], y_val))\n",
        "print('test Accuracy', pipeline.score(test_fin[important], subs))"
      ],
      "execution_count": 0,
      "outputs": [
        {
          "output_type": "stream",
          "text": [
            "Train Accuracy 0.9994949494949495\n",
            "Validation Accuracy 0.7537878787878788\n",
            "test Accuracy 0.6272461345591308\n"
          ],
          "name": "stdout"
        }
      ]
    },
    {
      "cell_type": "code",
      "metadata": {
        "id": "84LckljmKJP5",
        "colab_type": "code",
        "colab": {},
        "outputId": "dc175dd9-cb9e-4f6c-c413-ebf70c6f5b83"
      },
      "source": [
        "from sklearn.tree import DecisionTreeClassifier\n",
        "pipeline = make_pipeline(\n",
        "    SimpleImputer(), \n",
        "    DecisionTreeClassifier(min_samples_leaf=50,random_state=42)\n",
        ")\n",
        "\n",
        "pipeline.fit(train_fin[important], y_train)\n",
        "print('Train Accuracy', pipeline.score(train_fin[important], y_train))\n",
        "print('Validation Accuracy', pipeline.score(val_fin[important], y_val))\n",
        "print('test Accuracy', pipeline.score(test_fin[important], subs))"
      ],
      "execution_count": 0,
      "outputs": [
        {
          "output_type": "stream",
          "text": [
            "Train Accuracy 0.7436868686868687\n",
            "Validation Accuracy 0.7202861952861953\n",
            "test Accuracy 0.6411060036216744\n"
          ],
          "name": "stdout"
        }
      ]
    },
    {
      "cell_type": "code",
      "metadata": {
        "id": "x8_g12xwKJP7",
        "colab_type": "code",
        "colab": {},
        "outputId": "70e0bd41-b1cb-42d2-88af-b6a1bedec04f"
      },
      "source": [
        "from sklearn.linear_model import LogisticRegression\n",
        "\n",
        "pipeline = make_pipeline(\n",
        "    SimpleImputer(),\n",
        "    LogisticRegression()\n",
        ")\n",
        "\n",
        "pipeline.fit(train_fin[important], y_train)\n",
        "print('Train Accuracy', pipeline.score(train_fin[important], y_train))\n",
        "print('Validation Accuracy', pipeline.score(val_fin[important], y_val))\n",
        "print('test Accuracy', pipeline.score(test_fin[important], subs))"
      ],
      "execution_count": 0,
      "outputs": [
        {
          "output_type": "stream",
          "text": [
            "C:\\Users\\WIN 10\\Anaconda3\\lib\\site-packages\\sklearn\\linear_model\\logistic.py:433: FutureWarning: Default solver will be changed to 'lbfgs' in 0.22. Specify a solver to silence this warning.\n",
            "  FutureWarning)\n",
            "C:\\Users\\WIN 10\\Anaconda3\\lib\\site-packages\\sklearn\\linear_model\\logistic.py:460: FutureWarning: Default multi_class will be changed to 'auto' in 0.22. Specify the multi_class option to silence this warning.\n",
            "  \"this warning.\", FutureWarning)\n"
          ],
          "name": "stderr"
        },
        {
          "output_type": "stream",
          "text": [
            "Train Accuracy 0.6648989898989899\n",
            "Validation Accuracy 0.6716329966329966\n",
            "test Accuracy 0.7933556205599666\n"
          ],
          "name": "stdout"
        }
      ]
    },
    {
      "cell_type": "code",
      "metadata": {
        "id": "R3_QF-8yKJP9",
        "colab_type": "code",
        "colab": {}
      },
      "source": [
        "train_fin2,val_fin2,test_fin2 = hotord(train,val,test,hot,ordd,nums)"
      ],
      "execution_count": 0,
      "outputs": []
    },
    {
      "cell_type": "code",
      "metadata": {
        "id": "xzVlZ9WHKJP_",
        "colab_type": "code",
        "colab": {},
        "outputId": "a49fa8f7-1240-44e9-c3db-275b472fb27a"
      },
      "source": [
        "from sklearn.tree import DecisionTreeClassifier\n",
        "pipeline = make_pipeline(\n",
        "    SimpleImputer(), \n",
        "    DecisionTreeClassifier(min_samples_leaf=50,random_state=42)\n",
        ")\n",
        "\n",
        "pipeline.fit(train_fin2, y_train)\n",
        "print('Train Accuracy', pipeline.score(train_fin2, y_train))\n",
        "print('Validation Accuracy', pipeline.score(val_fin2, y_val))\n",
        "print('test Accuracy', pipeline.score(test_fin2, subs))"
      ],
      "execution_count": 0,
      "outputs": [
        {
          "output_type": "stream",
          "text": [
            "Train Accuracy 0.781797138047138\n",
            "Validation Accuracy 0.763973063973064\n",
            "test Accuracy 0.6271068393926731\n"
          ],
          "name": "stdout"
        }
      ]
    },
    {
      "cell_type": "code",
      "metadata": {
        "id": "b5yvg16SKJQB",
        "colab_type": "code",
        "colab": {},
        "outputId": "62ab8764-27c3-42f9-ec16-f0e3aea879ec"
      },
      "source": [
        "rf = pipeline.named_steps['decisiontreeclassifier']\n",
        "importances = pd.Series(rf.feature_importances_, test_fin2.columns)\n",
        "\n",
        "n = 20\n",
        "important = importances.sort_values()[-19:].index.tolist()\n",
        "important"
      ],
      "execution_count": 0,
      "outputs": [
        {
          "output_type": "execute_result",
          "data": {
            "text/plain": [
              "['basin_Lake Rukwa',\n",
              " 'extraction_type_other',\n",
              " 'construction_year',\n",
              " 'district_code',\n",
              " 'population',\n",
              " 'funder',\n",
              " 'region_code',\n",
              " 'lga',\n",
              " 'ward',\n",
              " 'scheme_name',\n",
              " 'gps_height',\n",
              " 'installer',\n",
              " 'waterpoint_type_communal standpipe multiple',\n",
              " 'latitude',\n",
              " 'amount_tsh',\n",
              " 'years',\n",
              " 'longitude',\n",
              " 'waterpoint_type_group_other',\n",
              " 'quantity_dry']"
            ]
          },
          "metadata": {
            "tags": []
          },
          "execution_count": 176
        }
      ]
    },
    {
      "cell_type": "code",
      "metadata": {
        "id": "FgJ7ihDpKJQE",
        "colab_type": "code",
        "colab": {},
        "outputId": "6f981113-b960-4288-f510-5aa62d50cf94"
      },
      "source": [
        "pipeline = make_pipeline(\n",
        "    SimpleImputer(), \n",
        "    DecisionTreeClassifier(min_samples_leaf=50,random_state=42)\n",
        ")\n",
        "\n",
        "pipeline.fit(train_fin2[important], y_train)\n",
        "print('Train Accuracy', pipeline.score(train_fin2[important], y_train))\n",
        "print('Validation Accuracy', pipeline.score(val_fin2[important], y_val))\n",
        "print('test Accuracy', pipeline.score(test_fin2[important], subs))"
      ],
      "execution_count": 0,
      "outputs": [
        {
          "output_type": "stream",
          "text": [
            "Train Accuracy 0.7734638047138047\n",
            "Validation Accuracy 0.7570707070707071\n",
            "test Accuracy 0.6366485582950272\n"
          ],
          "name": "stdout"
        }
      ]
    },
    {
      "cell_type": "code",
      "metadata": {
        "id": "JDHPw2-RKJQH",
        "colab_type": "code",
        "colab": {},
        "outputId": "3fe41fba-801c-4e10-9e5e-3b5892d8c3aa"
      },
      "source": [
        "from sklearn.tree import DecisionTreeClassifier\n",
        "pipeline = make_pipeline(\n",
        "    SimpleImputer(), \n",
        "    DecisionTreeClassifier(min_samples_leaf=50,random_state=42)\n",
        ")\n",
        "\n",
        "pipeline.fit(train_fin2[important], y_train)\n",
        "print('Train Accuracy', pipeline.score(train_fin2[important], y_train))\n",
        "print('Validation Accuracy', pipeline.score(val_fin2[important], y_val))\n",
        "print('test Accuracy', pipeline.score(test_fin2[important], subs))"
      ],
      "execution_count": 0,
      "outputs": [
        {
          "output_type": "stream",
          "text": [
            "Train Accuracy 0.7693813131313131\n",
            "Validation Accuracy 0.7536195286195286\n",
            "test Accuracy 0.633653712216186\n"
          ],
          "name": "stdout"
        }
      ]
    },
    {
      "cell_type": "code",
      "metadata": {
        "id": "r0kOhhtUKJQJ",
        "colab_type": "code",
        "colab": {},
        "outputId": "1cebce13-93a2-418a-dde0-b0d0682ee864"
      },
      "source": [
        "pipeline = make_pipeline(\n",
        "    SimpleImputer(strategy='median'), \n",
        "    RandomForestClassifier(n_estimators=20, random_state=42, n_jobs=-1)\n",
        ")\n",
        "\n",
        "pipeline.fit(train_fin2, y_train)\n",
        "print('Train Accuracy', pipeline.score(train_fin2, y_train))\n",
        "print('Validation Accuracy', pipeline.score(val_fin2, y_val))\n",
        "print('test Accuracy', pipeline.score(test_fin2, subs))"
      ],
      "execution_count": 0,
      "outputs": [
        {
          "output_type": "stream",
          "text": [
            "Train Accuracy 0.9953493265993266\n",
            "Validation Accuracy 0.8034511784511784\n",
            "test Accuracy 0.5990388633514417\n"
          ],
          "name": "stdout"
        }
      ]
    },
    {
      "cell_type": "code",
      "metadata": {
        "id": "19ukiUjpKJQM",
        "colab_type": "code",
        "colab": {},
        "outputId": "06a37b89-ebde-43fc-b1d2-2ea39157d688"
      },
      "source": [
        "rf = pipeline.named_steps['randomforestclassifier']\n",
        "importances = pd.Series(rf.feature_importances_, test_fin2.columns)\n",
        "\n",
        "n = 20\n",
        "important = importances.sort_values()[-8:].index.tolist()\n",
        "important"
      ],
      "execution_count": 0,
      "outputs": [
        {
          "output_type": "execute_result",
          "data": {
            "text/plain": [
              "['ward',\n",
              " 'day_recorded',\n",
              " 'gps_height',\n",
              " 'subvillage',\n",
              " 'wpt_name',\n",
              " 'quantity_dry',\n",
              " 'longitude',\n",
              " 'latitude']"
            ]
          },
          "metadata": {
            "tags": []
          },
          "execution_count": 210
        }
      ]
    },
    {
      "cell_type": "code",
      "metadata": {
        "id": "RrB0JswSKJQP",
        "colab_type": "code",
        "colab": {},
        "outputId": "49a6598a-e1ca-4790-f997-2f16aa41e3f0"
      },
      "source": [
        "pipeline = make_pipeline(\n",
        "    SimpleImputer(strategy='median'), \n",
        "    RandomForestClassifier(n_estimators=200, random_state=42, n_jobs=-1)\n",
        ")\n",
        "\n",
        "pipeline.fit(train_fin2[important], y_train)\n",
        "print('Train Accuracy', pipeline.score(train_fin2[important], y_train))\n",
        "print('Validation Accuracy', pipeline.score(val_fin2[important], y_val))\n",
        "print('test Accuracy', pipeline.score(test_fin2[important], subs))"
      ],
      "execution_count": 0,
      "outputs": [
        {
          "output_type": "stream",
          "text": [
            "Train Accuracy 0.9999158249158249\n",
            "Validation Accuracy 0.7116161616161616\n",
            "test Accuracy 0.6415935367042763\n"
          ],
          "name": "stdout"
        }
      ]
    },
    {
      "cell_type": "code",
      "metadata": {
        "id": "VanXm5reKJQR",
        "colab_type": "code",
        "colab": {},
        "outputId": "2ed31466-90b6-4a41-9e9f-0c7ed73d1dbc"
      },
      "source": [
        "pipeline = make_pipeline(\n",
        "    SimpleImputer(),\n",
        "    LogisticRegression()\n",
        ")\n",
        "\n",
        "pipeline.fit(train_fin[important], y_train)\n",
        "print('Train Accuracy', pipeline.score(train_fin[important], y_train))\n",
        "print('Validation Accuracy', pipeline.score(val_fin[important], y_val))\n",
        "print('test Accuracy', pipeline.score(test_fin[important], subs))"
      ],
      "execution_count": 0,
      "outputs": [
        {
          "output_type": "stream",
          "text": [
            "C:\\Users\\WIN 10\\Anaconda3\\lib\\site-packages\\sklearn\\linear_model\\logistic.py:433: FutureWarning: Default solver will be changed to 'lbfgs' in 0.22. Specify a solver to silence this warning.\n",
            "  FutureWarning)\n",
            "C:\\Users\\WIN 10\\Anaconda3\\lib\\site-packages\\sklearn\\linear_model\\logistic.py:460: FutureWarning: Default multi_class will be changed to 'auto' in 0.22. Specify the multi_class option to silence this warning.\n",
            "  \"this warning.\", FutureWarning)\n"
          ],
          "name": "stderr"
        },
        {
          "output_type": "stream",
          "text": [
            "Train Accuracy 0.6382575757575758\n",
            "Validation Accuracy 0.647979797979798\n",
            "test Accuracy 0.8816687560941635\n"
          ],
          "name": "stdout"
        }
      ]
    },
    {
      "cell_type": "code",
      "metadata": {
        "id": "upzERdaAKJQY",
        "colab_type": "code",
        "colab": {}
      },
      "source": [
        "y_pred = pipeline.predict(test_fin[important])"
      ],
      "execution_count": 0,
      "outputs": []
    },
    {
      "cell_type": "code",
      "metadata": {
        "id": "Gq-WibWyKJQa",
        "colab_type": "code",
        "colab": {}
      },
      "source": [
        "sample = sample_submission.copy()"
      ],
      "execution_count": 0,
      "outputs": []
    },
    {
      "cell_type": "code",
      "metadata": {
        "id": "GwcWVL36KJQg",
        "colab_type": "code",
        "colab": {},
        "outputId": "3f34a123-54cc-451d-a5bb-1532ed50236e"
      },
      "source": [
        "sample.head()"
      ],
      "execution_count": 0,
      "outputs": [
        {
          "output_type": "execute_result",
          "data": {
            "text/html": [
              "<div>\n",
              "<style scoped>\n",
              "    .dataframe tbody tr th:only-of-type {\n",
              "        vertical-align: middle;\n",
              "    }\n",
              "\n",
              "    .dataframe tbody tr th {\n",
              "        vertical-align: top;\n",
              "    }\n",
              "\n",
              "    .dataframe thead th {\n",
              "        text-align: right;\n",
              "    }\n",
              "</style>\n",
              "<table border=\"1\" class=\"dataframe\">\n",
              "  <thead>\n",
              "    <tr style=\"text-align: right;\">\n",
              "      <th></th>\n",
              "      <th>id</th>\n",
              "      <th>status_group</th>\n",
              "    </tr>\n",
              "  </thead>\n",
              "  <tbody>\n",
              "    <tr>\n",
              "      <th>0</th>\n",
              "      <td>50785</td>\n",
              "      <td>functional</td>\n",
              "    </tr>\n",
              "    <tr>\n",
              "      <th>1</th>\n",
              "      <td>51630</td>\n",
              "      <td>functional</td>\n",
              "    </tr>\n",
              "    <tr>\n",
              "      <th>2</th>\n",
              "      <td>17168</td>\n",
              "      <td>functional</td>\n",
              "    </tr>\n",
              "    <tr>\n",
              "      <th>3</th>\n",
              "      <td>45559</td>\n",
              "      <td>functional</td>\n",
              "    </tr>\n",
              "    <tr>\n",
              "      <th>4</th>\n",
              "      <td>49871</td>\n",
              "      <td>functional</td>\n",
              "    </tr>\n",
              "  </tbody>\n",
              "</table>\n",
              "</div>"
            ],
            "text/plain": [
              "      id status_group\n",
              "0  50785   functional\n",
              "1  51630   functional\n",
              "2  17168   functional\n",
              "3  45559   functional\n",
              "4  49871   functional"
            ]
          },
          "metadata": {
            "tags": []
          },
          "execution_count": 215
        }
      ]
    },
    {
      "cell_type": "code",
      "metadata": {
        "id": "zVoR4IAhKJQl",
        "colab_type": "code",
        "colab": {}
      },
      "source": [
        "sample['status_group'] = y_pred"
      ],
      "execution_count": 0,
      "outputs": []
    },
    {
      "cell_type": "code",
      "metadata": {
        "id": "B3h2Tkg0KJQn",
        "colab_type": "code",
        "colab": {},
        "outputId": "6652d457-917e-4c15-b696-8248d24e31c7"
      },
      "source": [
        "sample.head()"
      ],
      "execution_count": 0,
      "outputs": [
        {
          "output_type": "execute_result",
          "data": {
            "text/html": [
              "<div>\n",
              "<style scoped>\n",
              "    .dataframe tbody tr th:only-of-type {\n",
              "        vertical-align: middle;\n",
              "    }\n",
              "\n",
              "    .dataframe tbody tr th {\n",
              "        vertical-align: top;\n",
              "    }\n",
              "\n",
              "    .dataframe thead th {\n",
              "        text-align: right;\n",
              "    }\n",
              "</style>\n",
              "<table border=\"1\" class=\"dataframe\">\n",
              "  <thead>\n",
              "    <tr style=\"text-align: right;\">\n",
              "      <th></th>\n",
              "      <th>id</th>\n",
              "      <th>status_group</th>\n",
              "    </tr>\n",
              "  </thead>\n",
              "  <tbody>\n",
              "    <tr>\n",
              "      <th>0</th>\n",
              "      <td>50785</td>\n",
              "      <td>functional</td>\n",
              "    </tr>\n",
              "    <tr>\n",
              "      <th>1</th>\n",
              "      <td>51630</td>\n",
              "      <td>functional</td>\n",
              "    </tr>\n",
              "    <tr>\n",
              "      <th>2</th>\n",
              "      <td>17168</td>\n",
              "      <td>functional</td>\n",
              "    </tr>\n",
              "    <tr>\n",
              "      <th>3</th>\n",
              "      <td>45559</td>\n",
              "      <td>non functional</td>\n",
              "    </tr>\n",
              "    <tr>\n",
              "      <th>4</th>\n",
              "      <td>49871</td>\n",
              "      <td>functional</td>\n",
              "    </tr>\n",
              "  </tbody>\n",
              "</table>\n",
              "</div>"
            ],
            "text/plain": [
              "      id    status_group\n",
              "0  50785      functional\n",
              "1  51630      functional\n",
              "2  17168      functional\n",
              "3  45559  non functional\n",
              "4  49871      functional"
            ]
          },
          "metadata": {
            "tags": []
          },
          "execution_count": 217
        }
      ]
    },
    {
      "cell_type": "code",
      "metadata": {
        "id": "01vRWIJrKJQr",
        "colab_type": "code",
        "colab": {}
      },
      "source": [
        "sample.to_csv('submission-06.csv', index=False)"
      ],
      "execution_count": 0,
      "outputs": []
    },
    {
      "cell_type": "code",
      "metadata": {
        "id": "1QQIagRyKJQs",
        "colab_type": "code",
        "colab": {}
      },
      "source": [
        ""
      ],
      "execution_count": 0,
      "outputs": []
    }
  ]
}